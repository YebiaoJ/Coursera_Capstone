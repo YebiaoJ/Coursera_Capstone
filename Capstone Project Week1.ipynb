{
 "cells": [
  {
   "cell_type": "markdown",
   "metadata": {},
   "source": [
    "# IBM Applied Data Science Capstone Project\n",
    "\n",
    "#### _Predict the accident severity for vehicle GPS system_\n",
    "---"
   ]
  },
  {
   "cell_type": "markdown",
   "metadata": {},
   "source": [
    "## Introduction"
   ]
  },
  {
   "cell_type": "markdown",
   "metadata": {},
   "source": [
    "Nowadays people rely more and more on vehicle GPS for navigation. Even at an unfamiliar area, people will feel much more confident at driving than ever before but neglect some safety issue sometimes. Driving at an unfamiliar street, it's not enough to know the road or traffic condition. Safety is always at priority to be considered. It's of obiligation and necessicity for GPS producer to add the feature for predicting the accident severity considerred considering all the relevant information, e.g. weather, road condition, real-time traffic, etc. Wouldn't it be great of a vehicle GPS being able to warn the driver of all the possible accidents ahead? So driver could keep careful ahead of time or even change route if being able to. Taking care of what consumers really need, even if they are not aware, is the way to succeed. "
   ]
  },
  {
   "cell_type": "code",
   "execution_count": null,
   "metadata": {},
   "outputs": [],
   "source": []
  }
 ],
 "metadata": {
  "kernelspec": {
   "display_name": "Python",
   "language": "python",
   "name": "conda-env-python-py"
  },
  "language_info": {
   "codemirror_mode": {
    "name": "ipython",
    "version": 3
   },
   "file_extension": ".py",
   "mimetype": "text/x-python",
   "name": "python",
   "nbconvert_exporter": "python",
   "pygments_lexer": "ipython3",
   "version": "3.6.11"
  }
 },
 "nbformat": 4,
 "nbformat_minor": 4
}
