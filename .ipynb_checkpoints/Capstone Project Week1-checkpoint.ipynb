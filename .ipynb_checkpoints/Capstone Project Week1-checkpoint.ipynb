{
 "cells": [
  {
   "cell_type": "markdown",
   "metadata": {},
   "source": [
    "# IBM Applied Data Science Capstone Project\n",
    "\n",
    "#### _Predict the accident severity for vehicle GPS system_\n",
    "---"
   ]
  },
  {
   "cell_type": "markdown",
   "metadata": {},
   "source": [
    "## Introduction"
   ]
  },
  {
   "cell_type": "markdown",
   "metadata": {},
   "source": [
    "Nowadays people rely more and more on vehicle GPS for navigation. Even at an unfamiliar area, people will feel much more confident at driving than ever before but neglect some safety issue sometimes. Driving at an unfamiliar street, it's not enough to know the road or traffic condition. Safety is always at priority to be considered. It's of obiligation and necessicity for GPS producer to add the feature for predicting the accident severity considerred considering all the relevant information, e.g. weather, road condition, real-time traffic, etc. Wouldn't it be great of a vehicle GPS being able to warn the driver of all the possible accidents ahead? So driver could keep careful ahead of time or even change route if being able to. Taking care of what consumers really need, even if they are not aware, is the way to succeed. "
   ]
  },
  {
   "cell_type": "markdown",
   "metadata": {},
   "source": [
    "Machine learning has been a trustworthy role in solving such problem. With abundant data, we can develop a model predicting the accident severity or even possibility for each route head and thus the GPS can help pick the safest route for the drivers and warn them to pay more attention when they drive into a risky area, like a busy and wet crossroad with no roadlight. With classification models, such as logistic regression, machine learning can easily handle such task."
   ]
  },
  {
   "cell_type": "markdown",
   "metadata": {},
   "source": [
    "This project will explore machine learning models, such as decision tree, SVM, logistic regression, random forest, ect., to provide accurate prediction of accident severity, and also the corresponding possibility with some models."
   ]
  },
  {
   "cell_type": "markdown",
   "metadata": {},
   "source": [
    "## Data "
   ]
  },
  {
   "cell_type": "markdown",
   "metadata": {},
   "source": [
    "To solve the problem, we use the [shared data](https://s3.us.cloud-object-storage.appdomain.cloud/cf-courses-data/CognitiveClass/DP0701EN/version-2/Data-Collisions.csv) provided by the course. The shared data set consistes of all-year collisions provided by SPD and recorded by Traffic Records, which provides all types of collisions displayed at the intersection or mid-block of a segment from 2004 to present. Within the dataset, there're 38 columns and 194674 rows. Among the 38 columns, we have our target variable\n",
    "* _SEVERITYCODE_, which corresponds to the severity of the collision: **3**-fatality, **2b**-severe injury, **2**-injury, **1**-prop damage, **0**-unkown.\n"
   ]
  },
  {
   "cell_type": "markdown",
   "metadata": {},
   "source": [
    "For the rest 37 columns, not all columns are useful and some columns have much missing data. We have to consider what to keep and what to drop in the following sections as we perform data analysis and model evaluation. But we can start with some numerical or categorical variables that may intuitively relate to the accident severity: \n",
    "* _LOCATION_ including longitude _X_ and latitude _Y_\n",
    "* _ROADCOND_, the condition of the road during the collision, like DRY or WET\n",
    "* _WEATHER_, a description of the weather conditions during the time of the collision, like RAINING or CLEAR\n",
    "* _JUNCTIONTYPE_, category of junction at which collision took place, like At Intersection, Mid-Block or Driveway Junction\n",
    "* _SPEEDING_, whether or not speeding was a factor in the collision (Y/N)\n",
    "* _PERSONCOUNT_, the total number of people involved in the collision \n",
    "* _VEHCOUNT_, the number of vehicles involved in the collision\n",
    "* _LIGHTCOND_, the light conditions during the collision, like Daylight, Dark - Street Lights On or Dark - No Street Lights"
   ]
  },
  {
   "cell_type": "markdown",
   "metadata": {},
   "source": [
    "We can also check more detailed [meta data](https://s3.us.cloud-object-storage.appdomain.cloud/cf-courses-data/CognitiveClass/DP0701EN/version-2/Metadata.pdf) here."
   ]
  },
  {
   "cell_type": "markdown",
   "metadata": {},
   "source": [
    "We will analyze the quality of each attributes listed above (whether there exist lots of missing values),preprocess the data such as encoding the categorical variables and normalization of numerical variables. Afterwards, we have to check the relation with target variable by data visualization to confirm whether we should keep or drop the attributes."
   ]
  },
  {
   "cell_type": "code",
   "execution_count": null,
   "metadata": {},
   "outputs": [],
   "source": []
  }
 ],
 "metadata": {
  "kernelspec": {
   "display_name": "Python",
   "language": "python",
   "name": "conda-env-python-py"
  },
  "language_info": {
   "codemirror_mode": {
    "name": "ipython",
    "version": 3
   },
   "file_extension": ".py",
   "mimetype": "text/x-python",
   "name": "python",
   "nbconvert_exporter": "python",
   "pygments_lexer": "ipython3",
   "version": "3.6.11"
  }
 },
 "nbformat": 4,
 "nbformat_minor": 4
}
